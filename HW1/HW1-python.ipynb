{
 "cells": [
  {
   "cell_type": "markdown",
   "metadata": {
    "id": "Huz4iqmNvQsz"
   },
   "source": [
    "<h1 align=\"center\">\n",
    "<img src=\"https://drive.google.com/uc?export=view&id=1_ZkE3dnYg9KykzdZE6lIK2s_q_nbiKk_\" width=\"160\" height=\"160\">\n",
    "</h1>\n",
    "<h1 align=\"center\">Statistical Learning - 255381</h1>\n",
    "<h3 align=\"center\">Dr. Hoda Mohammadzade</h3>\n",
    "<h5 align=\"center\">Sharif University of Technology<br/>Electrical Engineering Department<br/>Spring 2023</h5>\n",
    "\n",
    "---\n",
    "\n",
    "\n",
    "# Problem Set 01\n",
    "\n",
    "Welcome to your first assignment. This exercise gives you a brief introduction to Python. \n",
    "\n",
    "> **Instructions:**\n",
    "> * You will be using Python 3.\n",
    "> * Please upload your assignment on CW.\n",
    "> * Your file name should be in format of ***HW# _Name_Student ID***\n",
    "> * Do not upload other students’ answers.\n",
    "> * If you have any inquiry regarding this assignment, message '@amin_dehnavi' or '@hoseynRanjbar' in Telegram or email amindehnavi10@gmail.com.\n",
    "\n",
    "Let's get started!\n",
    "\n",
    "\n"
   ]
  },
  {
   "cell_type": "code",
   "execution_count": 2,
   "metadata": {
    "id": "CFkqGLMlB9ck"
   },
   "outputs": [
    {
     "name": "stdout",
     "output_type": "stream",
     "text": [
      "StudentName: Milad Heidari , StudentID: 98101469\n"
     ]
    }
   ],
   "source": [
    "### Please Fill the following entries\n",
    "StudentName = \"Milad Heidari\"\n",
    "StudentID   = \"98101469\"\n",
    "\n",
    "print (f'StudentName: {StudentName} , StudentID: {StudentID}')"
   ]
  },
  {
   "cell_type": "markdown",
   "metadata": {
    "id": "YESFVnEEvQs8"
   },
   "source": [
    "## About iPython Notebooks ##\n",
    "\n",
    "iPython Notebooks are interactive coding environments embedded in a webpage. You will be using iPython notebooks in this class. You only need to write code between the ### START CODE HERE ### and ### END CODE HERE ### comments. After writing your code, you can run the cell by either pressing \"SHIFT\"+\"ENTER\" or by clicking on \"Run Cell\" (denoted by a play symbol) in the upper bar of the notebook. \n",
    "\n",
    "**Exercise**: Set test to `\"Hello World\"` in the cell below to print \"Hello World\" and run the two cells below."
   ]
  },
  {
   "cell_type": "code",
   "execution_count": 5,
   "metadata": {
    "id": "z_CYYVDzvQs8"
   },
   "outputs": [
    {
     "name": "stdout",
     "output_type": "stream",
     "text": [
      "Hello World\n"
     ]
    }
   ],
   "source": [
    "### START CODE HERE ###\n",
    "test = \"Hello World\"\n",
    "print(test)\n",
    "### END CODE HERE ###"
   ]
  },
  {
   "cell_type": "markdown",
   "metadata": {
    "id": "dt3BR1N_vQs9"
   },
   "source": [
    "<font color='blue'>\n",
    "**What you need to remember**:\n",
    "- Run your cells using SHIFT+ENTER (or \"Run cell\")\n",
    "- Write code in the designated areas using Python 3 only\n",
    "- Do not modify the code outside of the designated areas"
   ]
  },
  {
   "cell_type": "markdown",
   "metadata": {
    "id": "vRbqK2zDvQs9"
   },
   "source": [
    "# 1.\n",
    ">What are the lengths of the following lists and strings below? Fill in the variable `lengths` with your predictions. (Try to make a prediction for each list *without* just calling `len()` on it.)"
   ]
  },
  {
   "cell_type": "code",
   "execution_count": 8,
   "metadata": {
    "id": "vSe02i-zvQs-"
   },
   "outputs": [
    {
     "name": "stdout",
     "output_type": "stream",
     "text": [
      "[3, 2, 0, 2, 7, 0, 3, 1]\n"
     ]
    }
   ],
   "source": [
    "a = [1, 2, 3]\n",
    "b = [1, [2, 3]]\n",
    "c = []\n",
    "d = [1, 2, 3][1:]\n",
    "e = 'it\\'s ok'\n",
    "f = \"\"\n",
    "g = \"\"\"hey\"\"\"\n",
    "h = '\\n'\n",
    "\n",
    "# Put your predictions in the list below. Lengths should contain 8 numbers, the\n",
    "# first being the length of a, the second being the length of b and so on.\n",
    "### START CODE HERE ###\n",
    "lengths = [3, 2, 0, 2, 7, 0, 3, 1]\n",
    "print(lengths)\n",
    "### END CODE HERE ###"
   ]
  },
  {
   "cell_type": "markdown",
   "metadata": {
    "id": "Daim1IuRvQs-"
   },
   "source": [
    "# 2. \n",
    ">Swap the values to which a and b refer."
   ]
  },
  {
   "cell_type": "code",
   "execution_count": 9,
   "metadata": {
    "id": "Gvg9PxT8vQs-"
   },
   "outputs": [
    {
     "name": "stdout",
     "output_type": "stream",
     "text": [
      "a: [3, 2, 1]\n",
      "b: [1, 2, 3]\n"
     ]
    }
   ],
   "source": [
    "a = [1, 2, 3]\n",
    "b = [3, 2, 1]\n",
    "\n",
    "### START CODE HERE ###\n",
    "a, b = b, a\n",
    "print(f'a: {a}')\n",
    "print(f'b: {b}')\n",
    "### END CODE HERE ###"
   ]
  },
  {
   "cell_type": "markdown",
   "metadata": {
    "id": "1Ccry0DKvQs_"
   },
   "source": [
    "# 3. \n",
    ">Which of the two variables below has the smallest absolute value? Use Python's built-in functions."
   ]
  },
  {
   "cell_type": "code",
   "execution_count": 10,
   "metadata": {
    "id": "U3_EedHCvQs_"
   },
   "outputs": [
    {
     "name": "stdout",
     "output_type": "stream",
     "text": [
      "5\n"
     ]
    }
   ],
   "source": [
    "x = -10\n",
    "y = 5\n",
    "\n",
    "### START CODE HERE ###\n",
    "smallest_abs = min(abs(x), abs(y))\n",
    "print(smallest_abs)\n",
    "### END CODE HERE ###"
   ]
  },
  {
   "cell_type": "markdown",
   "metadata": {
    "id": "LDz4N2_NvQs_"
   },
   "source": [
    "# 4. \n",
    "\n",
    "> A simple exercise! Run the cell below and try to explain the results for yourself:\n",
    "\n"
   ]
  },
  {
   "cell_type": "code",
   "execution_count": 11,
   "metadata": {
    "id": "c6v3iUYTvQtA"
   },
   "outputs": [
    {
     "name": "stdout",
     "output_type": "stream",
     "text": [
      "1.0\n",
      "0.0\n",
      "1.0\n"
     ]
    }
   ],
   "source": [
    "print( 1.0 + 1.0 - 1.0 )\n",
    "print( 1.0 + 1.0e20 - 1.0e20 )\n",
    "print( 1.0e20 - 1.0e20 + 1 )"
   ]
  },
  {
   "cell_type": "markdown",
   "metadata": {
    "id": "fUE7pqjSvQtA"
   },
   "source": [
    "# 5.\n",
    ">Many programming languages have [`sign`](https://en.wikipedia.org/wiki/Sign_function) available as a built-in function. Python doesn't, but we can define our own! \n",
    "In the cell below, define a function called `sign` which takes a numerical argument and returns -1 if it's negative, 1 if it's positive, and 0 if it's 0."
   ]
  },
  {
   "cell_type": "code",
   "execution_count": 13,
   "metadata": {
    "id": "ZDhOxPpvvQtB"
   },
   "outputs": [
    {
     "name": "stdout",
     "output_type": "stream",
     "text": [
      "1\n",
      "-1\n",
      "0\n"
     ]
    }
   ],
   "source": [
    "def sign(x):\n",
    "    # (\"pass\" is a keyword that does literally nothing. We used it as a placeholder\n",
    "    # because after we begin a code block, Python requires at least one line of code)\n",
    "    \n",
    "    ### START CODE HERE ###\n",
    "    if x > 0:\n",
    "        return 1\n",
    "    elif x < 0:\n",
    "        return -1\n",
    "    return 0\n",
    "    ### END CODE HERE ###\n",
    "\n",
    "# You can try different examples to check your function:\n",
    "print(sign(2))\n",
    "print(sign(-2))\n",
    "print(sign(0))"
   ]
  },
  {
   "cell_type": "markdown",
   "metadata": {
    "id": "eC9P5ZUYvQtB"
   },
   "source": [
    "# 6. \n",
    ">Complete the body of the following function according to its docstring.\n",
    "\n",
    "HINT: Python has a built-in function `round`."
   ]
  },
  {
   "cell_type": "code",
   "execution_count": 18,
   "metadata": {
    "id": "IgmX4KkJvQtB"
   },
   "outputs": [
    {
     "data": {
      "text/plain": [
       "10.0"
      ]
     },
     "execution_count": 18,
     "metadata": {},
     "output_type": "execute_result"
    }
   ],
   "source": [
    "def round_to_two_places(num):\n",
    "    \"\"\"Return the given number rounded to two decimal places. \n",
    "    \n",
    "    >>> round_to_two_places(3.14159)\n",
    "    3.14\n",
    "    \"\"\"\n",
    "    ### START CODE HERE ###\n",
    "    return round(num, 2)\n",
    "    ### END CODE HERE ###\n",
    "\n",
    "round_to_two_places(9.9999)"
   ]
  },
  {
   "cell_type": "markdown",
   "metadata": {
    "id": "3CGToW1lvQtC"
   },
   "source": [
    "The help for `round` says that `ndigits` (the second argument) may be negative.\n",
    "What do you think will happen when it is? Try an example in the cell below."
   ]
  },
  {
   "cell_type": "markdown",
   "metadata": {},
   "source": [
    "When we use a negative number for ndigits, python rounds the number according to `ndigits` digits before decimal places. For example in the example below, if we set ndigits to 2, theresult would be 232.42 which is rounded to two decimal places. In contrast, setting ndigits to -2 would result in 200, which is 232.4243 rounded to two digits before decimal places."
   ]
  },
  {
   "cell_type": "code",
   "execution_count": 19,
   "metadata": {
    "id": "ZFYyym9hvQtC"
   },
   "outputs": [
    {
     "data": {
      "text/plain": [
       "200.0"
      ]
     },
     "execution_count": 19,
     "metadata": {},
     "output_type": "execute_result"
    }
   ],
   "source": [
    "round(232.4243, -2)"
   ]
  },
  {
   "cell_type": "markdown",
   "metadata": {
    "id": "I3dSboBdvQtC"
   },
   "source": [
    "# 7.\n",
    "> Write a function that evaluates the polynomial $${3x^2 − x + 2}$$"
   ]
  },
  {
   "cell_type": "code",
   "execution_count": 21,
   "metadata": {
    "id": "W6CkTkHJvQtD"
   },
   "outputs": [],
   "source": [
    "def polynomial(x):\n",
    "    ### START CODE HERE ###\n",
    "    return 3 * x**2 - x + 2\n",
    "    ### END CODE HERE ###"
   ]
  },
  {
   "cell_type": "markdown",
   "metadata": {
    "id": "UKIkps2ovQtD"
   },
   "source": [
    "# 8.\n",
    ">Complete the function below according to its docstring."
   ]
  },
  {
   "cell_type": "code",
   "execution_count": 23,
   "metadata": {
    "id": "8HeVlBm5vQtE"
   },
   "outputs": [],
   "source": [
    "def select_second(L):\n",
    "    \"\"\"Return the second element of the given list. If the list has no second\n",
    "    element, return None.\n",
    "    \"\"\"\n",
    "    ### START CODE HERE ###\n",
    "    try:\n",
    "        return L[1]\n",
    "    except:\n",
    "        return None\n",
    "    ### END CODE HERE ###"
   ]
  },
  {
   "cell_type": "markdown",
   "metadata": {
    "id": "W7FFGczHvQtE"
   },
   "source": [
    "# 9.\n",
    ">We're using lists to record people who attended a class and what order they arrived in. For example, the following list represents a class with 7 students, in which 'Amirhossein' showed up first and 'Pedram' was the last to arrive:\n",
    "    \n",
    "> class_attendees = ['Amirhossein', 'Hadi', 'Fatemeh', 'Mahtab', 'Ali', 'Nasim', 'Pedram']\n",
    "\n",
    "> A student is considered 'fashionably late' if they arrived after at least half of the class's students. However, they must not be the very last student (that's taking it too far). In the above example, Ali and Nasim are the only students who were fashionably late.\n",
    "Complete the function below which takes a list of class attendees as well as a person, and tells us whether that person is fashionably late."
   ]
  },
  {
   "cell_type": "code",
   "execution_count": 26,
   "metadata": {
    "id": "V5b0CXtwvQtE"
   },
   "outputs": [],
   "source": [
    "def fashionably_late(arrivals, name):\n",
    "    \"\"\"Given an ordered list of arrivals to the class and a name, return whether the student with that\n",
    "    name was fashionably late.\n",
    "    \"\"\"\n",
    "    ### START CODE HERE ###\n",
    "    name_idx = arrivals.index(name)\n",
    "    if name_idx > len(arrivals) / 2 and name != arrivals[-1]:\n",
    "        return True\n",
    "    return False\n",
    "    ### END CODE HERE ###"
   ]
  },
  {
   "cell_type": "markdown",
   "metadata": {
    "id": "ZHvU9UiFvQtF"
   },
   "source": [
    "# 10.\n",
    ">Complete the function below according to its docstring."
   ]
  },
  {
   "cell_type": "code",
   "execution_count": 31,
   "metadata": {
    "id": "SWFoGy-2vQtF"
   },
   "outputs": [],
   "source": [
    "def has_lucky_number(nums):\n",
    "    \"\"\"Return whether the given list of numbers is lucky. A lucky list contains\n",
    "    at least one number divisible by 7.\n",
    "    \"\"\"\n",
    "    ### START CODE HERE ###\n",
    "    return any(num%7 == 0 for num in nums)\n",
    "    ### END CODE HERE ###"
   ]
  },
  {
   "cell_type": "markdown",
   "metadata": {
    "id": "hRPoBOVSvQtF"
   },
   "source": [
    "# 11.\n",
    "\n",
    ">Complete the body of the function below according to its docstring."
   ]
  },
  {
   "cell_type": "code",
   "execution_count": null,
   "metadata": {
    "id": "WIPoLRXxvQtF"
   },
   "outputs": [],
   "source": [
    "def menu_is_boring(meals):\n",
    "    \"\"\"Given a list of meals served over some period of time, return True if the\n",
    "    same meal has ever been served two days in a row, and False otherwise.\n",
    "    \"\"\"\n",
    "    ### START CODE HERE ###\n",
    "    ...\n",
    "    ### END CODE HERE ###\n",
    "    pass"
   ]
  },
  {
   "cell_type": "markdown",
   "metadata": {
    "id": "yxuYiXUJvQtG"
   },
   "source": [
    "# 12.\n",
    "\n",
    "> There is a saying that \"Data scientists spend 80% of their time cleaning data, and 20% of their time complaining about cleaning data.\" Let's see if you can write a function to help clean US zip code data. Given a string, it should return whether or not that string represents a valid zip code. For our purposes, a valid zip code is any string consisting of exactly 5 digits.\n",
    "\n",
    "HINT: `str` has a method that will be useful here. Use `help(str)` to review a list of string methods."
   ]
  },
  {
   "cell_type": "code",
   "execution_count": 35,
   "metadata": {
    "id": "tLm1VoEFvQtG"
   },
   "outputs": [],
   "source": [
    "def is_valid_zip(zip_code):\n",
    "    \"\"\"Returns whether the input string is a valid (5 digit) zip code\n",
    "    \"\"\"\n",
    "    ### START CODE HERE ###\n",
    "    return zip_code.isnumeric() and len(zip_code) == 5\n",
    "    ### END CODE HERE ###"
   ]
  },
  {
   "cell_type": "markdown",
   "metadata": {
    "id": "_mVz_5DOvQtG"
   },
   "source": [
    "# 13.\n",
    ">Write a function my_max(x,y) that returns the maximum of x and y. \n",
    "\n",
    ">Do not use the max function, but use if instead in following two ways:\n",
    "\n",
    ">> (a) Use both if and else.\n",
    "\n",
    ">> (b) Use if but not else (nor elif)."
   ]
  },
  {
   "cell_type": "code",
   "execution_count": 41,
   "metadata": {
    "id": "H9vxfyyNvQtG"
   },
   "outputs": [],
   "source": [
    "def my_max_a(x, y):\n",
    "    ### START CODE HERE ###\n",
    "    if x >= y:\n",
    "        return x\n",
    "    else:\n",
    "        return y\n",
    "    ### END CODE HERE ###"
   ]
  },
  {
   "cell_type": "code",
   "execution_count": 42,
   "metadata": {
    "id": "5JZTIYEjvQtH"
   },
   "outputs": [],
   "source": [
    "def my_max_b(x, y):\n",
    "    ### START CODE HERE ###\n",
    "    if x >= y:\n",
    "        return x\n",
    "    return y\n",
    "    ### END CODE HERE ###"
   ]
  },
  {
   "cell_type": "markdown",
   "metadata": {
    "id": "422SRW83vQtH"
   },
   "source": [
    "# 14.  \n",
    "\n",
    "> Let i,j = 1,...,n\n",
    "\n",
    ">>(a) Generate a list with elements [i,j].\n",
    "\n",
    ">>(b) Generate a list with elements [i,j] with i < j\n",
    "\n",
    ">>(c) Generate a list with elements i + j with both i and j prime and i > j\n",
    "\n",
    "Use List comprehensions"
   ]
  },
  {
   "cell_type": "code",
   "execution_count": 56,
   "metadata": {
    "id": "BMmQrscfvQtI"
   },
   "outputs": [],
   "source": [
    "n = 100\n",
    "\n",
    "# a)\n",
    "### START CODE HERE ###\n",
    "a = [[i, j] for i in range(n) for j in range(n)]\n",
    "### END CODE HERE ###\n",
    "\n",
    "\n",
    "# b)\n",
    "### START CODE HERE ###\n",
    "b = [[i, j] for i in range(n) for j in range(n) if i < j]\n",
    "### END CODE HERE ###\n",
    "\n",
    "\n",
    "# c)\n",
    "### START CODE HERE ###\n",
    "c = [\n",
    "    i + j for i in range(2, n) for j in range(2, n)\n",
    "    if i > j and\n",
    "    not any(i%x==0 for x in range(2, i)) and\n",
    "    not any(j%x==0 for x in range(2, j))\n",
    "    ]\n",
    "### END CODE HERE ###"
   ]
  },
  {
   "cell_type": "markdown",
   "metadata": {
    "id": "5SFwCPh3vQtI"
   },
   "source": [
    "# 15. \n",
    "\n",
    ">Complete the body of the function below according to its docstring."
   ]
  },
  {
   "cell_type": "code",
   "execution_count": 57,
   "metadata": {
    "id": "o8R9vxPivQtI"
   },
   "outputs": [],
   "source": [
    "def my_func():\n",
    "    \"\"\"Write a function which will return a list contains all such numbers which are divisible by 7 but are not a multiple\n",
    "    of 5, between 2000 and 3200 (both included).\n",
    "    \"\"\"\n",
    "    ### START CODE HERE ###\n",
    "    return [i for i in range(2000, 3200+1) if i%7==0 and i%5!=0]\n",
    "    ### END CODE HERE ###"
   ]
  },
  {
   "cell_type": "markdown",
   "metadata": {
    "id": "1r5DGTgvvQtI"
   },
   "source": [
    "# 16.\n",
    "\n",
    ">Write a program that accepts a sentence and calculate the number of letters and digits.\n",
    "Suppose the following input is supplied to the program:\n",
    "\n",
    "        hello world! 123\n",
    ">Then, the output should be:\n",
    "\n",
    ">>LETTERS 10\n",
    "\n",
    ">>DIGITS 3"
   ]
  },
  {
   "cell_type": "code",
   "execution_count": 59,
   "metadata": {
    "id": "rPyCO_C5vQtJ"
   },
   "outputs": [
    {
     "name": "stdout",
     "output_type": "stream",
     "text": [
      "Enter a sentence: hello world! 123\n",
      "LETTERS 10\n",
      "DIGITS 3\n"
     ]
    }
   ],
   "source": [
    "### START CODE HERE ###\n",
    "\n",
    "string = input(\"Enter a sentence: \")\n",
    "num_letters = len([c for c in string if c.isalpha()])\n",
    "num_digits = len([c for c in string if c.isnumeric()])\n",
    "print(f'LETTERS {num_letters}')\n",
    "print(f'DIGITS {num_digits}')\n",
    "### END CODE HERE ###"
   ]
  },
  {
   "cell_type": "markdown",
   "metadata": {
    "id": "D5aWNpvevQtJ"
   },
   "source": [
    "# 17.\n",
    "Write a function to sort a list of tuples (name, age, height) by ascending order\n",
    "where name is string, age and height are numbers. The sort\n",
    "criteria is:\n",
    "\n",
    "* 1: Sort based on name;\n",
    "* 2: Then sort based on age;\n",
    "* 3: Then sort by score.\n",
    "\n",
    "The priority is that name > age > score.\n",
    "If the following list is given as input to the function:\n",
    ">[('Taha',19,80), ('Farhad',20,90), ('Farrokh',17,91), ('Farrokh',17,93), ('Fatemeh',21,85)]\n",
    "\n",
    "Then, the output of the program should be:\n",
    ">[('Farhad', '20', '90'), ('Farrokh', '17', '91'), ('Farrokh', '17', '93'), ('Fatemeh', '21', '85'), ('Taha', '19', '80')]"
   ]
  },
  {
   "cell_type": "code",
   "execution_count": 63,
   "metadata": {
    "id": "sNs_JgdqvQtJ"
   },
   "outputs": [
    {
     "name": "stdout",
     "output_type": "stream",
     "text": [
      "[('Farhad', 20, 90), ('Farrokh', 17, 91), ('Farrokh', 17, 93), ('Fatemeh', 21, 85), ('Taha', 19, 80)]\n"
     ]
    }
   ],
   "source": [
    "def sortTuple(inputList):\n",
    "    ### START CODE HERE ###\n",
    "    return sorted(inputList)\n",
    "    ### END CODE HERE ###\n",
    "    \n",
    "# test\n",
    "inputList = [('Taha',19,80), ('Farhad',20,90), ('Farrokh',17,91), ('Farrokh',17,93), ('Fatemeh',21,85)]\n",
    "print(sortTuple(inputList))"
   ]
  },
  {
   "cell_type": "markdown",
   "metadata": {
    "id": "6Nw0m6DjvQtJ"
   },
   "source": [
    "# 18. \n",
    "\n",
    "> What does the function below do? Which built-in function that we mentioned in the class has the same function? Rewrite the example using that function."
   ]
  },
  {
   "cell_type": "markdown",
   "metadata": {},
   "source": [
    "We can use the `map` built-in function of Python to achieve this goal."
   ]
  },
  {
   "cell_type": "code",
   "execution_count": 66,
   "metadata": {
    "id": "AWGweOBjvQtK"
   },
   "outputs": [
    {
     "name": "stdout",
     "output_type": "stream",
     "text": [
      "[3, 2, 3]\n",
      "\n",
      "[3, 2, 3]\n"
     ]
    }
   ],
   "source": [
    "def MY_FUNC(func, collection):\n",
    "    output = []\n",
    "    for element in collection:\n",
    "        output += [func(element)]\n",
    "    return output\n",
    "\n",
    "# Example:\n",
    "print( MY_FUNC(max, [[1, 2, 3], [-1, 0, 2], (3, 0, 3)]) )\n",
    "\n",
    "### START CODE HERE ###\n",
    "print()\n",
    "print(list(map(max, [[1, 2, 3], [-1, 0, 2], (3, 0, 3)])))\n",
    "### END CODE HERE ###"
   ]
  },
  {
   "cell_type": "markdown",
   "metadata": {},
   "source": [
    "# 19.\n",
    "\n",
    ">Create the followings to numpy array:\n",
    "* A: a 3\\*3 array like this:\n",
    "$$\n",
    "A = \\left(\\begin{array}{cc} \n",
    "1 & 2 & 3\\\\\n",
    "2 & 1 & 5\\\\\n",
    "3 & 5 & 4\n",
    "\\end{array}\\right)\n",
    "$$ \n",
    "* B: a 3\\*3\\*4 that filled with the numbers of [Fibonacci number](https://en.wikipedia.org/wiki/Fibonacci_number). The array should be filled first along the first dimension then the second dimension and at last the third dimension. like this:\n",
    "$$\n",
    "B[:, :, 0] = \\left(\\begin{array}{cc} \n",
    "1 & 3 & 13\\\\\n",
    "1 & 5 & 21\\\\\n",
    "2 & 8 & 34\n",
    "\\end{array}\\right)\n",
    "$$ "
   ]
  },
  {
   "cell_type": "code",
   "execution_count": 62,
   "metadata": {},
   "outputs": [],
   "source": [
    "### START CODE HERE ###\n",
    "import numpy as np\n",
    "\n",
    "A = np.array([\n",
    "    [1, 2, 3],\n",
    "    [2, 1, 5],\n",
    "    [3, 5, 4]\n",
    "])\n",
    "\n",
    "B_size = (3, 3, 4)\n",
    "alpha = (1 + np.sqrt(5)) / 2\n",
    "beta = (1 -np.sqrt(5)) / 2\n",
    "B = np.array([\n",
    "    int(np.rint((alpha ** i - beta ** i) / np.sqrt(5)))\n",
    "    for i in range(1, B_size[0]*B_size[1]*B_size[2]+1)\n",
    "]).reshape(B_size, order='F')\n",
    "### END CODE HERE ###"
   ]
  },
  {
   "cell_type": "code",
   "execution_count": 140,
   "metadata": {},
   "outputs": [
    {
     "data": {
      "text/plain": [
       "array([[ 1,  3, 13],\n",
       "       [ 1,  5, 21],\n",
       "       [ 2,  8, 34]])"
      ]
     },
     "execution_count": 140,
     "metadata": {},
     "output_type": "execute_result"
    }
   ],
   "source": [
    "B[:, :, 0]"
   ]
  },
  {
   "cell_type": "markdown",
   "metadata": {},
   "source": [
    "# 20. Replacement\n",
    "\n",
    ">Replace the last slice of array B (B[:, :, 3]) with values of A. Then print the result."
   ]
  },
  {
   "cell_type": "code",
   "execution_count": 141,
   "metadata": {
    "scrolled": true
   },
   "outputs": [
    {
     "name": "stdout",
     "output_type": "stream",
     "text": [
      "[[1 2 3]\n",
      " [2 1 5]\n",
      " [3 5 4]]\n"
     ]
    }
   ],
   "source": [
    "### START CODE HERE ###\n",
    "B[:, :, 3] = A\n",
    "print(B[:, :, 3])\n",
    "### END CODE HERE ###"
   ]
  },
  {
   "cell_type": "code",
   "execution_count": 142,
   "metadata": {},
   "outputs": [
    {
     "data": {
      "text/plain": [
       "array([[1, 2, 3],\n",
       "       [2, 1, 5],\n",
       "       [3, 5, 4]])"
      ]
     },
     "execution_count": 142,
     "metadata": {},
     "output_type": "execute_result"
    }
   ],
   "source": [
    "B[:, :, 3]"
   ]
  },
  {
   "cell_type": "markdown",
   "metadata": {},
   "source": [
    "## 21. Axis Swap \n",
    ">Swap the second(B[:, :, 2]) and last(B[:, :, 3]) slice of the array B **only with one line of code**. Then print the result."
   ]
  },
  {
   "cell_type": "code",
   "execution_count": 143,
   "metadata": {
    "scrolled": true
   },
   "outputs": [
    {
     "data": {
      "text/plain": [
       "array([[[  4181,      1],\n",
       "        [ 17711,      2],\n",
       "        [ 75025,      3]],\n",
       "\n",
       "       [[  6765,      2],\n",
       "        [ 28657,      1],\n",
       "        [121393,      5]],\n",
       "\n",
       "       [[ 10946,      3],\n",
       "        [ 46368,      5],\n",
       "        [196418,      4]]])"
      ]
     },
     "execution_count": 143,
     "metadata": {},
     "output_type": "execute_result"
    }
   ],
   "source": [
    "B[:, :, 2:4]"
   ]
  },
  {
   "cell_type": "code",
   "execution_count": 144,
   "metadata": {},
   "outputs": [
    {
     "name": "stdout",
     "output_type": "stream",
     "text": [
      "[[1 2 3]\n",
      " [2 1 5]\n",
      " [3 5 4]]\n",
      "[[  4181  17711  75025]\n",
      " [  6765  28657 121393]\n",
      " [ 10946  46368 196418]]\n"
     ]
    }
   ],
   "source": [
    "### START CODE HERE ###\n",
    "B[:, :, [2, 3]] = B[:, :, [3, 2]]\n",
    "print(B[:, :, 2])\n",
    "print(B[:, :, 3])\n",
    "### END CODE HERE ###"
   ]
  },
  {
   "cell_type": "markdown",
   "metadata": {},
   "source": [
    "## 22. Transposing \n",
    ">Transpose the array B elements in each slice. Then print the result."
   ]
  },
  {
   "cell_type": "code",
   "execution_count": 147,
   "metadata": {},
   "outputs": [
    {
     "name": "stdout",
     "output_type": "stream",
     "text": [
      "[[1 2 3]\n",
      " [2 1 5]\n",
      " [3 5 4]]\n",
      "[[  4181   6765  10946]\n",
      " [ 17711  28657  46368]\n",
      " [ 75025 121393 196418]]\n"
     ]
    }
   ],
   "source": [
    "### START CODE HERE ###\n",
    "for i in range(B.shape[-1]):\n",
    "    B[:, :, i] = B[:, :, i].T\n",
    "    \n",
    "print(B[:, :, 2])\n",
    "print(B[:, :, 3])\n",
    "### END CODE HERE ###"
   ]
  },
  {
   "cell_type": "markdown",
   "metadata": {},
   "source": [
    "## 23. Matrix Multiplication\n",
    ">Calculate the matrix multiplication of three slices of the array B. \n",
    "(B[:, :, 0] \\* B[:, :, 1] \\* B[:, :, 2]). Then print the result.\n",
    "\n",
    ">**Note**: the result should be a 3\\*3 array. "
   ]
  },
  {
   "cell_type": "code",
   "execution_count": 152,
   "metadata": {},
   "outputs": [
    {
     "data": {
      "text/plain": [
       "array([[     229955,     1204170,     9457344],\n",
       "       [   24759978,    54018445,  1131379200],\n",
       "       [ 2887937325, 20355785205, 69025999232]])"
      ]
     },
     "execution_count": 152,
     "metadata": {},
     "output_type": "execute_result"
    }
   ],
   "source": [
    "### START CODE HERE ###\n",
    "np.prod(B, axis=2)\n",
    "### END CODE HERE ###"
   ]
  },
  {
   "cell_type": "markdown",
   "metadata": {},
   "source": [
    "## 24. Determinant\n",
    ">Calculate the determinant of the array A and print it."
   ]
  },
  {
   "cell_type": "code",
   "execution_count": 155,
   "metadata": {},
   "outputs": [
    {
     "data": {
      "text/plain": [
       "13.999999999999996"
      ]
     },
     "execution_count": 155,
     "metadata": {},
     "output_type": "execute_result"
    }
   ],
   "source": [
    "### START CODE HERE ###\n",
    "np.linalg.det(A)\n",
    "### END CODE HERE ###"
   ]
  },
  {
   "cell_type": "markdown",
   "metadata": {},
   "source": [
    "# Problem Set 02\n",
    "\n",
    "## 1. Loading dataset\n",
    ">Load the IMDB-Movie-Data.csv file into a pandas dataframe and show its first 5 rows. Each row of this dataframe corresponds to one film."
   ]
  },
  {
   "cell_type": "code",
   "execution_count": 25,
   "metadata": {},
   "outputs": [
    {
     "data": {
      "text/html": [
       "<div>\n",
       "<style scoped>\n",
       "    .dataframe tbody tr th:only-of-type {\n",
       "        vertical-align: middle;\n",
       "    }\n",
       "\n",
       "    .dataframe tbody tr th {\n",
       "        vertical-align: top;\n",
       "    }\n",
       "\n",
       "    .dataframe thead th {\n",
       "        text-align: right;\n",
       "    }\n",
       "</style>\n",
       "<table border=\"1\" class=\"dataframe\">\n",
       "  <thead>\n",
       "    <tr style=\"text-align: right;\">\n",
       "      <th></th>\n",
       "      <th>Rank</th>\n",
       "      <th>Title</th>\n",
       "      <th>Genre</th>\n",
       "      <th>Description</th>\n",
       "      <th>Director</th>\n",
       "      <th>Actors</th>\n",
       "      <th>Year</th>\n",
       "      <th>Runtime (Minutes)</th>\n",
       "      <th>Rating</th>\n",
       "      <th>Votes</th>\n",
       "      <th>Revenue (Millions)</th>\n",
       "      <th>Metascore</th>\n",
       "    </tr>\n",
       "  </thead>\n",
       "  <tbody>\n",
       "    <tr>\n",
       "      <th>0</th>\n",
       "      <td>1</td>\n",
       "      <td>Guardians of the Galaxy</td>\n",
       "      <td>Action,Adventure,Sci-Fi</td>\n",
       "      <td>A group of intergalactic criminals are forced ...</td>\n",
       "      <td>James Gunn</td>\n",
       "      <td>Chris Pratt, Vin Diesel, Bradley Cooper, Zoe S...</td>\n",
       "      <td>2014</td>\n",
       "      <td>121</td>\n",
       "      <td>8.1</td>\n",
       "      <td>757074</td>\n",
       "      <td>333.13</td>\n",
       "      <td>76.0</td>\n",
       "    </tr>\n",
       "    <tr>\n",
       "      <th>1</th>\n",
       "      <td>2</td>\n",
       "      <td>Prometheus</td>\n",
       "      <td>Adventure,Mystery,Sci-Fi</td>\n",
       "      <td>Following clues to the origin of mankind, a te...</td>\n",
       "      <td>Ridley Scott</td>\n",
       "      <td>Noomi Rapace, Logan Marshall-Green, Michael Fa...</td>\n",
       "      <td>2012</td>\n",
       "      <td>124</td>\n",
       "      <td>7.0</td>\n",
       "      <td>485820</td>\n",
       "      <td>126.46</td>\n",
       "      <td>65.0</td>\n",
       "    </tr>\n",
       "    <tr>\n",
       "      <th>2</th>\n",
       "      <td>3</td>\n",
       "      <td>Split</td>\n",
       "      <td>Horror,Thriller</td>\n",
       "      <td>Three girls are kidnapped by a man with a diag...</td>\n",
       "      <td>M. Night Shyamalan</td>\n",
       "      <td>James McAvoy, Anya Taylor-Joy, Haley Lu Richar...</td>\n",
       "      <td>2016</td>\n",
       "      <td>117</td>\n",
       "      <td>7.3</td>\n",
       "      <td>157606</td>\n",
       "      <td>138.12</td>\n",
       "      <td>62.0</td>\n",
       "    </tr>\n",
       "    <tr>\n",
       "      <th>3</th>\n",
       "      <td>4</td>\n",
       "      <td>Sing</td>\n",
       "      <td>Animation,Comedy,Family</td>\n",
       "      <td>In a city of humanoid animals, a hustling thea...</td>\n",
       "      <td>Christophe Lourdelet</td>\n",
       "      <td>Matthew McConaughey,Reese Witherspoon, Seth Ma...</td>\n",
       "      <td>2016</td>\n",
       "      <td>108</td>\n",
       "      <td>7.2</td>\n",
       "      <td>60545</td>\n",
       "      <td>270.32</td>\n",
       "      <td>59.0</td>\n",
       "    </tr>\n",
       "    <tr>\n",
       "      <th>4</th>\n",
       "      <td>5</td>\n",
       "      <td>Suicide Squad</td>\n",
       "      <td>Action,Adventure,Fantasy</td>\n",
       "      <td>A secret government agency recruits some of th...</td>\n",
       "      <td>David Ayer</td>\n",
       "      <td>Will Smith, Jared Leto, Margot Robbie, Viola D...</td>\n",
       "      <td>2016</td>\n",
       "      <td>123</td>\n",
       "      <td>6.2</td>\n",
       "      <td>393727</td>\n",
       "      <td>325.02</td>\n",
       "      <td>40.0</td>\n",
       "    </tr>\n",
       "  </tbody>\n",
       "</table>\n",
       "</div>"
      ],
      "text/plain": [
       "   Rank                    Title                     Genre  \\\n",
       "0     1  Guardians of the Galaxy   Action,Adventure,Sci-Fi   \n",
       "1     2               Prometheus  Adventure,Mystery,Sci-Fi   \n",
       "2     3                    Split           Horror,Thriller   \n",
       "3     4                     Sing   Animation,Comedy,Family   \n",
       "4     5            Suicide Squad  Action,Adventure,Fantasy   \n",
       "\n",
       "                                         Description              Director  \\\n",
       "0  A group of intergalactic criminals are forced ...            James Gunn   \n",
       "1  Following clues to the origin of mankind, a te...          Ridley Scott   \n",
       "2  Three girls are kidnapped by a man with a diag...    M. Night Shyamalan   \n",
       "3  In a city of humanoid animals, a hustling thea...  Christophe Lourdelet   \n",
       "4  A secret government agency recruits some of th...            David Ayer   \n",
       "\n",
       "                                              Actors  Year  Runtime (Minutes)  \\\n",
       "0  Chris Pratt, Vin Diesel, Bradley Cooper, Zoe S...  2014                121   \n",
       "1  Noomi Rapace, Logan Marshall-Green, Michael Fa...  2012                124   \n",
       "2  James McAvoy, Anya Taylor-Joy, Haley Lu Richar...  2016                117   \n",
       "3  Matthew McConaughey,Reese Witherspoon, Seth Ma...  2016                108   \n",
       "4  Will Smith, Jared Leto, Margot Robbie, Viola D...  2016                123   \n",
       "\n",
       "   Rating   Votes  Revenue (Millions)  Metascore  \n",
       "0     8.1  757074              333.13       76.0  \n",
       "1     7.0  485820              126.46       65.0  \n",
       "2     7.3  157606              138.12       62.0  \n",
       "3     7.2   60545              270.32       59.0  \n",
       "4     6.2  393727              325.02       40.0  "
      ]
     },
     "execution_count": 25,
     "metadata": {},
     "output_type": "execute_result"
    }
   ],
   "source": [
    "### START CODE HERE ###\n",
    "import pandas as pd\n",
    "df = pd.read_csv('IMDB-Movie-Data.csv')\n",
    "df.head()\n",
    "### END CODE HERE ###"
   ]
  },
  {
   "cell_type": "markdown",
   "metadata": {},
   "source": [
    "## 2. Actors/Actresses Activity\n",
    ">For each Actors/Actresses caculate the number of movies in the dataframe, then sort the actors/actresses first by their number of movies in descending order and then by their name in ascending order. "
   ]
  },
  {
   "cell_type": "code",
   "execution_count": 26,
   "metadata": {},
   "outputs": [
    {
     "data": {
      "text/html": [
       "<div>\n",
       "<style scoped>\n",
       "    .dataframe tbody tr th:only-of-type {\n",
       "        vertical-align: middle;\n",
       "    }\n",
       "\n",
       "    .dataframe tbody tr th {\n",
       "        vertical-align: top;\n",
       "    }\n",
       "\n",
       "    .dataframe thead th {\n",
       "        text-align: right;\n",
       "    }\n",
       "</style>\n",
       "<table border=\"1\" class=\"dataframe\">\n",
       "  <thead>\n",
       "    <tr style=\"text-align: right;\">\n",
       "      <th></th>\n",
       "      <th>actor-actress</th>\n",
       "      <th>count</th>\n",
       "    </tr>\n",
       "  </thead>\n",
       "  <tbody>\n",
       "    <tr>\n",
       "      <th>0</th>\n",
       "      <td>MarkWahlberg</td>\n",
       "      <td>15</td>\n",
       "    </tr>\n",
       "    <tr>\n",
       "      <th>1</th>\n",
       "      <td>HughJackman</td>\n",
       "      <td>14</td>\n",
       "    </tr>\n",
       "    <tr>\n",
       "      <th>2</th>\n",
       "      <td>BradPitt</td>\n",
       "      <td>13</td>\n",
       "    </tr>\n",
       "    <tr>\n",
       "      <th>3</th>\n",
       "      <td>ChristianBale</td>\n",
       "      <td>13</td>\n",
       "    </tr>\n",
       "    <tr>\n",
       "      <th>4</th>\n",
       "      <td>AnneHathaway</td>\n",
       "      <td>12</td>\n",
       "    </tr>\n",
       "    <tr>\n",
       "      <th>...</th>\n",
       "      <td>...</td>\n",
       "      <td>...</td>\n",
       "    </tr>\n",
       "    <tr>\n",
       "      <th>1980</th>\n",
       "      <td>ZacheryTyBryan</td>\n",
       "      <td>1</td>\n",
       "    </tr>\n",
       "    <tr>\n",
       "      <th>1981</th>\n",
       "      <td>ZoeKazan</td>\n",
       "      <td>1</td>\n",
       "    </tr>\n",
       "    <tr>\n",
       "      <th>1982</th>\n",
       "      <td>ÉmilieLeclerc</td>\n",
       "      <td>1</td>\n",
       "    </tr>\n",
       "    <tr>\n",
       "      <th>1983</th>\n",
       "      <td>ÓlafurDarriÓlafsson</td>\n",
       "      <td>1</td>\n",
       "    </tr>\n",
       "    <tr>\n",
       "      <th>1984</th>\n",
       "      <td>ÓscarJaenada</td>\n",
       "      <td>1</td>\n",
       "    </tr>\n",
       "  </tbody>\n",
       "</table>\n",
       "<p>1985 rows × 2 columns</p>\n",
       "</div>"
      ],
      "text/plain": [
       "            actor-actress  count\n",
       "0            MarkWahlberg     15\n",
       "1             HughJackman     14\n",
       "2                BradPitt     13\n",
       "3           ChristianBale     13\n",
       "4            AnneHathaway     12\n",
       "...                   ...    ...\n",
       "1980       ZacheryTyBryan      1\n",
       "1981             ZoeKazan      1\n",
       "1982        ÉmilieLeclerc      1\n",
       "1983  ÓlafurDarriÓlafsson      1\n",
       "1984         ÓscarJaenada      1\n",
       "\n",
       "[1985 rows x 2 columns]"
      ]
     },
     "execution_count": 26,
     "metadata": {},
     "output_type": "execute_result"
    }
   ],
   "source": [
    "### START CODE HERE ###\n",
    "actors_actresses_df = pd.DataFrame(\n",
    "    data=[\n",
    "        name for row in \n",
    "        df['Actors'].apply(lambda x: x.replace(' ', '').split(','))\n",
    "        for name in row\n",
    "    ],\n",
    "    columns=['actor-actress']\n",
    ")\n",
    "activity = actors_actresses_df.groupby(by=['actor-actress']).size().reset_index(name='count') \\\n",
    "               .sort_values(by=['count', 'actor-actress'], ascending=[False, True]).reset_index(drop=True)\n",
    "activity\n",
    "### END CODE HERE ###"
   ]
  },
  {
   "cell_type": "markdown",
   "metadata": {},
   "source": [
    "## 3. Average Rate\n",
    ">Caculate the average rate of every year and sort them in descending order. Print them as a dictionary with year as key and average rate as value."
   ]
  },
  {
   "cell_type": "code",
   "execution_count": 27,
   "metadata": {
    "scrolled": true
   },
   "outputs": [
    {
     "data": {
      "text/plain": [
       "{2007: 7.133962264150944,\n",
       " 2006: 7.125,\n",
       " 2009: 6.96078431372549,\n",
       " 2012: 6.925,\n",
       " 2011: 6.838095238095239,\n",
       " 2014: 6.837755102040816,\n",
       " 2010: 6.826666666666667,\n",
       " 2013: 6.812087912087912,\n",
       " 2008: 6.7846153846153845,\n",
       " 2015: 6.602362204724409,\n",
       " 2016: 6.436700336700337}"
      ]
     },
     "execution_count": 27,
     "metadata": {},
     "output_type": "execute_result"
    }
   ],
   "source": [
    "### START CODE HERE ###\n",
    "average_rates_by_year = df.groupby(by=['Year'])['Rating'].mean().reset_index(name='average_rating') \\\n",
    "                            .sort_values(by=['average_rating'], ascending=False).set_index('Year')\n",
    "average_ratings_dict = average_rates_by_year.to_dict()['average_rating']\n",
    "average_ratings_dict\n",
    "### END CODE HERE ###"
   ]
  },
  {
   "cell_type": "markdown",
   "metadata": {},
   "source": [
    "## 4. Score Histogram\n",
    ">Draw the histogram of metascores and ratings. "
   ]
  },
  {
   "cell_type": "code",
   "execution_count": 28,
   "metadata": {},
   "outputs": [
    {
     "data": {
      "image/png": "[encoded data removed]",
      "text/plain": [
       "<Figure size 1000x300 with 2 Axes>"
      ]
     },
     "metadata": {},
     "output_type": "display_data"
    }
   ],
   "source": [
    "### START CODE HERE ###\n",
    "import seaborn as sns\n",
    "import matplotlib.pyplot as plt\n",
    "\n",
    "fig = plt.figure(figsize=(10, 3))\n",
    "ax1 = fig.add_subplot(1, 2, 1)\n",
    "sns.histplot(ax=ax1, x=df['Rating'])\n",
    "\n",
    "ax2 = fig.add_subplot(1, 2, 2)\n",
    "sns.histplot(ax=ax2, x=df['Metascore'], color='red');\n",
    "### END CODE HERE ###"
   ]
  },
  {
   "cell_type": "markdown",
   "metadata": {},
   "source": [
    "## 5. Correlations\n",
    ">Calculate the correlation between rating, votes and metascore of the movies.\n",
    "Is there any meaningful relation between these features? "
   ]
  },
  {
   "cell_type": "markdown",
   "metadata": {},
   "source": [
    "As expected, `Rating` and `Meta score` are highly correlated. Also there is a positive correlation between `Votes` and `Rating`."
   ]
  },
  {
   "cell_type": "code",
   "execution_count": 32,
   "metadata": {},
   "outputs": [
    {
     "data": {
      "image/png": "[encoded data removed]",
      "text/plain": [
       "<Figure size 640x480 with 2 Axes>"
      ]
     },
     "metadata": {},
     "output_type": "display_data"
    }
   ],
   "source": [
    "### START CODE HERE ###\n",
    "sns.heatmap(df.loc[:, ['Rating', 'Metascore', 'Votes']].corr(), annot=True, cmap='Purples');\n",
    "### END CODE HERE ###"
   ]
  },
  {
   "cell_type": "markdown",
   "metadata": {},
   "source": [
    "## 6. File\n",
    "> Create a .txt file and name it \"Name_actors\". You must write the name of all actors/actresses in the IMDB-Movie-Data.csv file. Don't write a name multiple time and write each name in a new line."
   ]
  },
  {
   "cell_type": "code",
   "execution_count": 82,
   "metadata": {},
   "outputs": [],
   "source": [
    "### START CODE HERE ###\n",
    "actor_actress = activity['actor-actress'].unique()\n",
    "with open('actor_actress.txt', 'w') as f:\n",
    "    for name in actor_actress:\n",
    "        f.write(name + '\\n')\n",
    "### END CODE HERE ###"
   ]
  },
  {
   "cell_type": "markdown",
   "metadata": {},
   "source": [
    "## 7. Plot\n",
    ">You must plot the number of movies in each year according to the IMDB-Movie-Data.csv file. X-axis is year and y-axis show the number of movies in each year.\n",
    "> set the x_label, y_label and title for your plot."
   ]
  },
  {
   "cell_type": "code",
   "execution_count": 60,
   "metadata": {},
   "outputs": [
    {
     "data": {
      "image/png": "[encoded data removed]",
      "text/plain": [
       "<Figure size 800x500 with 1 Axes>"
      ]
     },
     "metadata": {},
     "output_type": "display_data"
    }
   ],
   "source": [
    "### START CODE HERE ###\n",
    "plt.figure(figsize=(8, 5))\n",
    "num_movies_per_year = df.groupby(by=['Year']).size().reset_index(name='count')\n",
    "plt.bar(num_movies_per_year['Year'], num_movies_per_year['count'], color='purple')\n",
    "plt.xlabel('year')\n",
    "plt.ylabel('Number of movies')\n",
    "plt.title('Number of movies per year')\n",
    "plt.xticks(num_movies_per_year['Year']);\n",
    "### END CODE HERE ###"
   ]
  },
  {
   "cell_type": "markdown",
   "metadata": {},
   "source": [
    "## 8. Plot\n",
    ">You must plot the cos(x) curve. plot 20 cycle of the curve. the frequency of first half of curve is 50 Hz and frequency of second lalf is 20 Hz. \n",
    "> set the x_label, y_label and title for your plot."
   ]
  },
  {
   "cell_type": "code",
   "execution_count": 77,
   "metadata": {},
   "outputs": [
    {
     "data": {
      "image/png": "[encoded data removed]",
      "text/plain": [
       "<Figure size 640x480 with 1 Axes>"
      ]
     },
     "metadata": {},
     "output_type": "display_data"
    }
   ],
   "source": [
    "### START CODE HERE ###\n",
    "fig = plt.figure()\n",
    "ax = fig.add_subplot(1, 1, 1)\n",
    "first_part_x = np.linspace(0, 0.2, 200)\n",
    "second_part_x = np.linspace(0.2, 0.7, 500)\n",
    "ax.plot(first_part_x, np.cos(100*np.pi*first_part_x), color='red')\n",
    "ax.plot(second_part_x, np.cos(40*np.pi*second_part_x), color='red')\n",
    "ax.set_xlabel('t (s)')\n",
    "ax.set_ylabel('y (t)')\n",
    "ax.set_title('20 cycles of y (t)', fontsize=11);\n",
    "### END CODE HERE ###"
   ]
  }
 ],
 "metadata": {
  "colab": {
   "collapsed_sections": [],
   "name": "HW1.ipynb",
   "provenance": []
  },
  "kernelspec": {
   "display_name": "Python 3 (ipykernel)",
   "language": "python",
   "name": "python3"
  },
  "language_info": {
   "codemirror_mode": {
    "name": "ipython",
    "version": 3
   },
   "file_extension": ".py",
   "mimetype": "text/x-python",
   "name": "python",
   "nbconvert_exporter": "python",
   "pygments_lexer": "ipython3",
   "version": "3.10.6"
  }
 },
 "nbformat": 4,
 "nbformat_minor": 1
}
